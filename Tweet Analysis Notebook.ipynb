{
  "nbformat": 4,
  "nbformat_minor": 0,
  "metadata": {
    "colab": {
      "name": "Dipo EDA.ipynb",
      "provenance": [],
      "collapsed_sections": [],
      "toc_visible": true
    },
    "kernelspec": {
      "display_name": "Python 3",
      "name": "python3"
    },
    "language_info": {
      "name": "python"
    }
  },
  "cells": [
    {
      "cell_type": "markdown",
      "metadata": {
        "id": "NxfTWNN0b_cF"
      },
      "source": [
        "# Exploratory Data Analysis and Sentiment Analysis\n",
        "\n",
        "---\n",
        "In this notebook, I tried to draw insight from the extracted tweets using pandas and other import libraries.\n",
        "The Sentiment analyzers used for this project is a Vader Sentiment \n",
        "Analysis, you can read about it [here](https://medium.com/analytics-vidhya/simplifying-social-media-sentiment-analysis-using-vader-in-python-f9e6ec6fc52f).\n",
        " and navigate back to the tweet extraction notebook here"
      ]
    },
    {
      "cell_type": "code",
      "metadata": {
        "id": "L0c_ny-VtKH4"
      },
      "source": [
        "#importing some the necessary libraries\n",
        "import json\n",
        "import  numpy as np\n",
        "import pandas as pd\n",
        "import csv\n",
        "import os\n",
        "from datetime import datetime\n",
        "import matplotlib.pyplot as plt\n",
        "import seaborn as sns\n",
        "import seaborn as sns\n",
        "%matplotlib inline\n"
      ],
      "execution_count": 1,
      "outputs": []
    },
    {
      "cell_type": "code",
      "metadata": {
        "colab": {
          "base_uri": "https://localhost:8080/"
        },
        "id": "ebDOrOZSv5pC",
        "outputId": "69008dad-e20d-4f0e-8d63-77047ca8b70d"
      },
      "source": [
        "##lising all the CSVs  in the dir\n",
        "\n",
        "all_tweets = pd.DataFrame()\n",
        "files = [file for file in os.listdir('/content/drive/MyDrive/Colab Notebooks/dipo tweets')]\n",
        "for file in files:\n",
        "  print(file)"
      ],
      "execution_count": 3,
      "outputs": [
        {
          "output_type": "stream",
          "text": [
            "20210322_213915_ogbeni_tweets.csv\n",
            "2021-03-31ogbenidipo OR Dr Dipo OR Ogbeni Dipo\n",
            "20210322_220100_ogbeni_tweets.csv\n",
            "20210325_110759_ogbeni_tweets.csv\n",
            "20210325_124521_ogbeni_tweets.csv\n",
            "20210328_203555@ogbenidipo OR Dr Dipo OR Ogbeni Dipo_ogbeni_tweets.csv\n",
            "20210328_203839Ogbeni Dipo_ogbeni_tweets.csv\n",
            "20210329_000708@ogbenidipo OR Dr Dipo OR Ogbeni Dipo_ogbeni_tweets.csv\n",
            "20210329_004437@ogbenidipo OR Dr Dipo OR Ogbeni Dipo_try.csv\n",
            "20210329_004556@ogbenidipo OR Dr Dipo OR Ogbeni Dipo_try.csv\n",
            "24-28.csv\n",
            "complex.csv\n"
          ],
          "name": "stdout"
        }
      ]
    },
    {
      "cell_type": "code",
      "metadata": {
        "id": "6tPHKgYRxiPn"
      },
      "source": [
        "#Joining\n",
        "for file  in files:\n",
        "    df = pd.read_csv('/content/drive/MyDrive/Colab Notebooks/dipo tweets/' + file)\n",
        "    all_tweets = pd.concat([all_tweets, df])\n",
        "all_tweets.to_csv('/content/drive/MyDrive/Colab Notebooks/dipo tweets/all_tweets.csv', index=0)"
      ],
      "execution_count": 4,
      "outputs": []
    },
    {
      "cell_type": "code",
      "metadata": {
        "colab": {
          "base_uri": "https://localhost:8080/",
          "height": 435
        },
        "id": "tkyI0x1Dt4sH",
        "outputId": "5c6b70b3-821b-4dfc-bf05-191a70f8892f"
      },
      "source": [
        "all_tweets = pd.read_csv('/content/drive/MyDrive/Colab Notebooks/dipo tweets/all_tweets.csv', parse_dates=True)\n",
        "all_tweets.head()"
      ],
      "execution_count": 32,
      "outputs": [
        {
          "output_type": "execute_result",
          "data": {
            "text/html": [
              "<div>\n",
              "<style scoped>\n",
              "    .dataframe tbody tr th:only-of-type {\n",
              "        vertical-align: middle;\n",
              "    }\n",
              "\n",
              "    .dataframe tbody tr th {\n",
              "        vertical-align: top;\n",
              "    }\n",
              "\n",
              "    .dataframe thead th {\n",
              "        text-align: right;\n",
              "    }\n",
              "</style>\n",
              "<table border=\"1\" class=\"dataframe\">\n",
              "  <thead>\n",
              "    <tr style=\"text-align: right;\">\n",
              "      <th></th>\n",
              "      <th>username</th>\n",
              "      <th>acctdesc</th>\n",
              "      <th>location</th>\n",
              "      <th>following</th>\n",
              "      <th>followers</th>\n",
              "      <th>totaltweets</th>\n",
              "      <th>usercreatedts</th>\n",
              "      <th>tweetcreatedts</th>\n",
              "      <th>retweetcount</th>\n",
              "      <th>text</th>\n",
              "      <th>hashtags</th>\n",
              "      <th>likes</th>\n",
              "    </tr>\n",
              "  </thead>\n",
              "  <tbody>\n",
              "    <tr>\n",
              "      <th>0</th>\n",
              "      <td>ajao_janet</td>\n",
              "      <td>#Jovial #Focus #Team_Player #Giver #Honesty #B...</td>\n",
              "      <td>Lagos State, Nigeria</td>\n",
              "      <td>898.0</td>\n",
              "      <td>779</td>\n",
              "      <td>3777</td>\n",
              "      <td>2015-07-07 10:10:48</td>\n",
              "      <td>2021-03-22 20:53:19</td>\n",
              "      <td>0</td>\n",
              "      <td>@westtyy_ @OgbeniDipo Na uncle Dipo Dey whine ...</td>\n",
              "      <td>[]</td>\n",
              "      <td>NaN</td>\n",
              "    </tr>\n",
              "    <tr>\n",
              "      <th>1</th>\n",
              "      <td>OfficialOmoJay</td>\n",
              "      <td>ꜰᴀꜱʜɪᴏɴ ᴅᴇꜱɪɢɴᴇʀ ✂️\\nA C T I V E!  👤</td>\n",
              "      <td>Nigeria</td>\n",
              "      <td>4130.0</td>\n",
              "      <td>3183</td>\n",
              "      <td>14104</td>\n",
              "      <td>2013-03-09 15:31:48</td>\n",
              "      <td>2021-03-22 20:26:18</td>\n",
              "      <td>0</td>\n",
              "      <td>@OgbeniDipo This dipo get money, make una bill am</td>\n",
              "      <td>[]</td>\n",
              "      <td>NaN</td>\n",
              "    </tr>\n",
              "    <tr>\n",
              "      <th>2</th>\n",
              "      <td>SearchPunt</td>\n",
              "      <td>My good tweets are mine. Others are from hackers.</td>\n",
              "      <td>Lagos</td>\n",
              "      <td>823.0</td>\n",
              "      <td>4818</td>\n",
              "      <td>32379</td>\n",
              "      <td>2018-02-17 22:57:55</td>\n",
              "      <td>2021-03-22 20:23:16</td>\n",
              "      <td>0</td>\n",
              "      <td>\"Guide me through your thought process, I want...</td>\n",
              "      <td>[]</td>\n",
              "      <td>NaN</td>\n",
              "    </tr>\n",
              "    <tr>\n",
              "      <th>3</th>\n",
              "      <td>BoodaLeye</td>\n",
              "      <td>• Jesus Addict • Arts Enthusiast • Guitar Savv...</td>\n",
              "      <td>NaN</td>\n",
              "      <td>256.0</td>\n",
              "      <td>98</td>\n",
              "      <td>2680</td>\n",
              "      <td>2021-02-21 11:30:39</td>\n",
              "      <td>2021-03-22 19:30:41</td>\n",
              "      <td>0</td>\n",
              "      <td>@OgbeniDipo #FriendsOfDipo are ready, anyday a...</td>\n",
              "      <td>[{'text': 'FriendsOfDipo', 'indices': [12, 26]}]</td>\n",
              "      <td>NaN</td>\n",
              "    </tr>\n",
              "    <tr>\n",
              "      <th>4</th>\n",
              "      <td>Kimanii07</td>\n",
              "      <td>Photographer //Arsenal fan//Loves Adventures//...</td>\n",
              "      <td>Ibadan, Nigeria</td>\n",
              "      <td>288.0</td>\n",
              "      <td>294</td>\n",
              "      <td>7665</td>\n",
              "      <td>2020-06-02 11:27:13</td>\n",
              "      <td>2021-03-22 19:17:51</td>\n",
              "      <td>0</td>\n",
              "      <td>@OgbeniDipo @greatwhizz10 Uncle Dipo, you sure😏</td>\n",
              "      <td>[]</td>\n",
              "      <td>NaN</td>\n",
              "    </tr>\n",
              "  </tbody>\n",
              "</table>\n",
              "</div>"
            ],
            "text/plain": [
              "         username  ... likes\n",
              "0      ajao_janet  ...   NaN\n",
              "1  OfficialOmoJay  ...   NaN\n",
              "2      SearchPunt  ...   NaN\n",
              "3       BoodaLeye  ...   NaN\n",
              "4       Kimanii07  ...   NaN\n",
              "\n",
              "[5 rows x 12 columns]"
            ]
          },
          "metadata": {
            "tags": []
          },
          "execution_count": 32
        }
      ]
    },
    {
      "cell_type": "code",
      "metadata": {
        "colab": {
          "base_uri": "https://localhost:8080/"
        },
        "id": "txmCbIhpplyD",
        "outputId": "09baf2b2-acfb-457b-b57e-a55f98d53ab7"
      },
      "source": [
        "all_tweets.columns"
      ],
      "execution_count": 33,
      "outputs": [
        {
          "output_type": "execute_result",
          "data": {
            "text/plain": [
              "Index(['username', 'acctdesc', 'location', 'following', 'followers',\n",
              "       'totaltweets', 'usercreatedts', 'tweetcreatedts', 'retweetcount',\n",
              "       'text', 'hashtags', 'likes'],\n",
              "      dtype='object')"
            ]
          },
          "metadata": {
            "tags": []
          },
          "execution_count": 33
        }
      ]
    },
    {
      "cell_type": "code",
      "metadata": {
        "colab": {
          "base_uri": "https://localhost:8080/"
        },
        "id": "USR34DDkT4q2",
        "outputId": "b97b56f2-2991-41f0-f616-c33188c18006"
      },
      "source": [
        "#counting for missen values\n",
        "all_tweets.isna().sum()\n"
      ],
      "execution_count": 34,
      "outputs": [
        {
          "output_type": "execute_result",
          "data": {
            "text/plain": [
              "username             0\n",
              "acctdesc          9086\n",
              "location          3196\n",
              "following         8690\n",
              "followers            0\n",
              "totaltweets          0\n",
              "usercreatedts        0\n",
              "tweetcreatedts       0\n",
              "retweetcount         0\n",
              "text                 0\n",
              "hashtags          8690\n",
              "likes             7333\n",
              "dtype: int64"
            ]
          },
          "metadata": {
            "tags": []
          },
          "execution_count": 34
        }
      ]
    },
    {
      "cell_type": "markdown",
      "metadata": {
        "id": "nuoOM8KHUCuM"
      },
      "source": [
        "######So, there are five features with missen values which ought not supposed to be so here are the reason why:\n",
        "For location, those the users did not put their location on twitter, same goes account description. For likes I did use some other extraction techinque to get the data and while extracting I excluded it from the extraction and same goes for the rest."
      ]
    },
    {
      "cell_type": "code",
      "metadata": {
        "colab": {
          "base_uri": "https://localhost:8080/"
        },
        "id": "bMlQ_e2F1igC",
        "outputId": "451fea2d-f8fb-4b44-d573-a1518e5c5688"
      },
      "source": [
        "#following and  hashtags do have null values because I dropped them while making other runs of extraction\n",
        "all_tweets.info()"
      ],
      "execution_count": 35,
      "outputs": [
        {
          "output_type": "stream",
          "text": [
            "<class 'pandas.core.frame.DataFrame'>\n",
            "RangeIndex: 16023 entries, 0 to 16022\n",
            "Data columns (total 12 columns):\n",
            " #   Column          Non-Null Count  Dtype  \n",
            "---  ------          --------------  -----  \n",
            " 0   username        16023 non-null  object \n",
            " 1   acctdesc        6937 non-null   object \n",
            " 2   location        12827 non-null  object \n",
            " 3   following       7333 non-null   float64\n",
            " 4   followers       16023 non-null  int64  \n",
            " 5   totaltweets     16023 non-null  int64  \n",
            " 6   usercreatedts   16023 non-null  object \n",
            " 7   tweetcreatedts  16023 non-null  object \n",
            " 8   retweetcount    16023 non-null  int64  \n",
            " 9   text            16023 non-null  object \n",
            " 10  hashtags        7333 non-null   object \n",
            " 11  likes           8690 non-null   float64\n",
            "dtypes: float64(2), int64(3), object(7)\n",
            "memory usage: 1.5+ MB\n"
          ],
          "name": "stdout"
        }
      ]
    },
    {
      "cell_type": "code",
      "metadata": {
        "colab": {
          "base_uri": "https://localhost:8080/",
          "height": 768
        },
        "id": "Nr_3C13J1pto",
        "outputId": "a21e0151-d397-4412-a3fa-649a141e2546"
      },
      "source": [
        "#counting duplicated tweets\n",
        "all_tweets[all_tweets.duplicated(subset='text')]\n",
        "#14602 of the records are duplicated tweets "
      ],
      "execution_count": 36,
      "outputs": [
        {
          "output_type": "execute_result",
          "data": {
            "text/html": [
              "<div>\n",
              "<style scoped>\n",
              "    .dataframe tbody tr th:only-of-type {\n",
              "        vertical-align: middle;\n",
              "    }\n",
              "\n",
              "    .dataframe tbody tr th {\n",
              "        vertical-align: top;\n",
              "    }\n",
              "\n",
              "    .dataframe thead th {\n",
              "        text-align: right;\n",
              "    }\n",
              "</style>\n",
              "<table border=\"1\" class=\"dataframe\">\n",
              "  <thead>\n",
              "    <tr style=\"text-align: right;\">\n",
              "      <th></th>\n",
              "      <th>username</th>\n",
              "      <th>acctdesc</th>\n",
              "      <th>location</th>\n",
              "      <th>following</th>\n",
              "      <th>followers</th>\n",
              "      <th>totaltweets</th>\n",
              "      <th>usercreatedts</th>\n",
              "      <th>tweetcreatedts</th>\n",
              "      <th>retweetcount</th>\n",
              "      <th>text</th>\n",
              "      <th>hashtags</th>\n",
              "      <th>likes</th>\n",
              "    </tr>\n",
              "  </thead>\n",
              "  <tbody>\n",
              "    <tr>\n",
              "      <th>46</th>\n",
              "      <td>itxjsm</td>\n",
              "      <td>This is d official Twitter handle of Jay Esem ...</td>\n",
              "      <td>Ikeja, Nigeria</td>\n",
              "      <td>219.0</td>\n",
              "      <td>14</td>\n",
              "      <td>1463</td>\n",
              "      <td>2020-07-23 20:38:50</td>\n",
              "      <td>2021-03-21 18:47:50</td>\n",
              "      <td>2</td>\n",
              "      <td>@OgbeniDipo Wo Oga dipo wahAla e po,let them e...</td>\n",
              "      <td>[]</td>\n",
              "      <td>NaN</td>\n",
              "    </tr>\n",
              "    <tr>\n",
              "      <th>65</th>\n",
              "      <td>Abraham76139460</td>\n",
              "      <td>Unserious mind(OBOsexual)</td>\n",
              "      <td>Lagos, Nigeria</td>\n",
              "      <td>130.0</td>\n",
              "      <td>38</td>\n",
              "      <td>631</td>\n",
              "      <td>2020-08-23 11:55:30</td>\n",
              "      <td>2021-03-21 09:30:19</td>\n",
              "      <td>1</td>\n",
              "      <td>@OgbeniDipo So because we no go school Dr.Dipo...</td>\n",
              "      <td>[]</td>\n",
              "      <td>NaN</td>\n",
              "    </tr>\n",
              "    <tr>\n",
              "      <th>66</th>\n",
              "      <td>JohnnyLingo__</td>\n",
              "      <td>🐺</td>\n",
              "      <td>Lagos📌</td>\n",
              "      <td>666.0</td>\n",
              "      <td>784</td>\n",
              "      <td>42302</td>\n",
              "      <td>2012-04-12 07:13:55</td>\n",
              "      <td>2021-03-21 08:37:58</td>\n",
              "      <td>10</td>\n",
              "      <td>@OgbeniDipo Read some of comments and I’m just...</td>\n",
              "      <td>[]</td>\n",
              "      <td>NaN</td>\n",
              "    </tr>\n",
              "    <tr>\n",
              "      <th>67</th>\n",
              "      <td>Smooth_Operata</td>\n",
              "      <td>Here by fate.\\nManchester United. Politics. Mu...</td>\n",
              "      <td>Lagos</td>\n",
              "      <td>1232.0</td>\n",
              "      <td>615</td>\n",
              "      <td>37241</td>\n",
              "      <td>2011-03-16 10:14:17</td>\n",
              "      <td>2021-03-21 07:54:33</td>\n",
              "      <td>16</td>\n",
              "      <td>Omo. @OgbeniDipo is actually a cool person o 😂...</td>\n",
              "      <td>[]</td>\n",
              "      <td>NaN</td>\n",
              "    </tr>\n",
              "    <tr>\n",
              "      <th>70</th>\n",
              "      <td>tomathegr8</td>\n",
              "      <td>#Criminology▪️▪️#Félix</td>\n",
              "      <td>Motion</td>\n",
              "      <td>942.0</td>\n",
              "      <td>963</td>\n",
              "      <td>3591</td>\n",
              "      <td>2016-07-03 23:49:37</td>\n",
              "      <td>2021-03-21 06:48:31</td>\n",
              "      <td>250</td>\n",
              "      <td>OMG, CGPA is trending. What have you done agai...</td>\n",
              "      <td>[]</td>\n",
              "      <td>NaN</td>\n",
              "    </tr>\n",
              "    <tr>\n",
              "      <th>...</th>\n",
              "      <td>...</td>\n",
              "      <td>...</td>\n",
              "      <td>...</td>\n",
              "      <td>...</td>\n",
              "      <td>...</td>\n",
              "      <td>...</td>\n",
              "      <td>...</td>\n",
              "      <td>...</td>\n",
              "      <td>...</td>\n",
              "      <td>...</td>\n",
              "      <td>...</td>\n",
              "      <td>...</td>\n",
              "    </tr>\n",
              "    <tr>\n",
              "      <th>16018</th>\n",
              "      <td>sammyalfred7</td>\n",
              "      <td>NaN</td>\n",
              "      <td>Afrika</td>\n",
              "      <td>NaN</td>\n",
              "      <td>346</td>\n",
              "      <td>6013</td>\n",
              "      <td>2018-05-05 14:21:05</td>\n",
              "      <td>2021-03-25 00:24:30</td>\n",
              "      <td>355</td>\n",
              "      <td>RT @quinlateefa: Ogbeni dipo is just a markete...</td>\n",
              "      <td>NaN</td>\n",
              "      <td>0.0</td>\n",
              "    </tr>\n",
              "    <tr>\n",
              "      <th>16019</th>\n",
              "      <td>Furyzico</td>\n",
              "      <td>NaN</td>\n",
              "      <td>Illuminate★☆★ HQ...</td>\n",
              "      <td>NaN</td>\n",
              "      <td>1819</td>\n",
              "      <td>49674</td>\n",
              "      <td>2011-02-09 22:42:03</td>\n",
              "      <td>2021-03-25 00:24:08</td>\n",
              "      <td>624</td>\n",
              "      <td>RT @chigoziiem: ..and ogbeni dipo is saying th...</td>\n",
              "      <td>NaN</td>\n",
              "      <td>0.0</td>\n",
              "    </tr>\n",
              "    <tr>\n",
              "      <th>16020</th>\n",
              "      <td>atlanta4lif</td>\n",
              "      <td>NaN</td>\n",
              "      <td>Pressure</td>\n",
              "      <td>NaN</td>\n",
              "      <td>501</td>\n",
              "      <td>19155</td>\n",
              "      <td>2020-08-21 14:09:29</td>\n",
              "      <td>2021-03-25 00:23:23</td>\n",
              "      <td>527</td>\n",
              "      <td>RT @AfamDeluxo: Ogbeni Dipo has always been a ...</td>\n",
              "      <td>NaN</td>\n",
              "      <td>0.0</td>\n",
              "    </tr>\n",
              "    <tr>\n",
              "      <th>16021</th>\n",
              "      <td>youngsavvy66</td>\n",
              "      <td>NaN</td>\n",
              "      <td>NaN</td>\n",
              "      <td>NaN</td>\n",
              "      <td>465</td>\n",
              "      <td>4031</td>\n",
              "      <td>2016-02-16 16:02:20</td>\n",
              "      <td>2021-03-25 00:23:20</td>\n",
              "      <td>556</td>\n",
              "      <td>RT @oboy_jay: Worst prank ever,,,, what would ...</td>\n",
              "      <td>NaN</td>\n",
              "      <td>0.0</td>\n",
              "    </tr>\n",
              "    <tr>\n",
              "      <th>16022</th>\n",
              "      <td>atlanta4lif</td>\n",
              "      <td>NaN</td>\n",
              "      <td>Pressure</td>\n",
              "      <td>NaN</td>\n",
              "      <td>501</td>\n",
              "      <td>19155</td>\n",
              "      <td>2020-08-21 14:09:29</td>\n",
              "      <td>2021-03-25 00:23:18</td>\n",
              "      <td>1171</td>\n",
              "      <td>RT @DAFLOWABIOYE: ogbeni dipo that was invited...</td>\n",
              "      <td>NaN</td>\n",
              "      <td>0.0</td>\n",
              "    </tr>\n",
              "  </tbody>\n",
              "</table>\n",
              "<p>14602 rows × 12 columns</p>\n",
              "</div>"
            ],
            "text/plain": [
              "              username  ... likes\n",
              "46              itxjsm  ...   NaN\n",
              "65     Abraham76139460  ...   NaN\n",
              "66       JohnnyLingo__  ...   NaN\n",
              "67      Smooth_Operata  ...   NaN\n",
              "70          tomathegr8  ...   NaN\n",
              "...                ...  ...   ...\n",
              "16018     sammyalfred7  ...   0.0\n",
              "16019         Furyzico  ...   0.0\n",
              "16020      atlanta4lif  ...   0.0\n",
              "16021     youngsavvy66  ...   0.0\n",
              "16022      atlanta4lif  ...   0.0\n",
              "\n",
              "[14602 rows x 12 columns]"
            ]
          },
          "metadata": {
            "tags": []
          },
          "execution_count": 36
        }
      ]
    },
    {
      "cell_type": "code",
      "metadata": {
        "colab": {
          "base_uri": "https://localhost:8080/"
        },
        "id": "fci-IKDN4i2U",
        "outputId": "edda010c-a06b-45e0-9df0-955f6896fc9f"
      },
      "source": [
        "###c dropping duplicate tweets\n",
        "all_tweets = all_tweets.drop_duplicates(subset='text')\n",
        "print(len(all_tweets))"
      ],
      "execution_count": 37,
      "outputs": [
        {
          "output_type": "stream",
          "text": [
            "1421\n"
          ],
          "name": "stdout"
        }
      ]
    },
    {
      "cell_type": "code",
      "metadata": {
        "colab": {
          "base_uri": "https://localhost:8080/"
        },
        "id": "txXM14GrnnJh",
        "outputId": "a18b4461-2baf-4e09-a752-b0dad3080628"
      },
      "source": [
        "#FE\n",
        "## usercreatedts and tweetcreatedts need to be converted to datetime\n",
        "all_tweets['usercreatedts'] = pd.to_datetime(all_tweets['usercreatedts'])\n",
        "all_tweets['tweetcreatedts'] = pd.to_datetime(all_tweets['tweetcreatedts'])\n",
        "\n",
        "#creatingo only tweet date column without time\n",
        "#all_tweets['date']= all_tweets['tweetcreatedts'].dt.date\n",
        "\n",
        "# create the weekdays and time column, year account created\n",
        "all_tweets['weekday'] =all_tweets['tweetcreatedts'].dt.strftime(\"%a\")\n",
        "print(all_tweets['weekday'])\n",
        "\n",
        "#time\n",
        "all_tweets['hour']= all_tweets['tweetcreatedts'].dt.hour\n",
        "print(all_tweets['hour'])\n",
        "\n",
        "# year acct created\n",
        "all_tweets['usercreatedts'] =pd.to_datetime(all_tweets['usercreatedts'])\n",
        "all_tweets['acctyear']= all_tweets['usercreatedts'].dt.year\n",
        "print(all_tweets['acctyear'])"
      ],
      "execution_count": 38,
      "outputs": [
        {
          "output_type": "stream",
          "text": [
            "0        Mon\n",
            "1        Mon\n",
            "2        Mon\n",
            "3        Mon\n",
            "4        Mon\n",
            "        ... \n",
            "15905    Thu\n",
            "15927    Thu\n",
            "15932    Thu\n",
            "15973    Thu\n",
            "16007    Thu\n",
            "Name: weekday, Length: 1421, dtype: object\n",
            "0        20\n",
            "1        20\n",
            "2        20\n",
            "3        19\n",
            "4        19\n",
            "         ..\n",
            "15905     1\n",
            "15927     0\n",
            "15932     0\n",
            "15973     0\n",
            "16007     0\n",
            "Name: hour, Length: 1421, dtype: int64\n",
            "0        2015\n",
            "1        2013\n",
            "2        2018\n",
            "3        2021\n",
            "4        2020\n",
            "         ... \n",
            "15905    2018\n",
            "15927    2015\n",
            "15932    2014\n",
            "15973    2020\n",
            "16007    2010\n",
            "Name: acctyear, Length: 1421, dtype: int64\n"
          ],
          "name": "stdout"
        }
      ]
    },
    {
      "cell_type": "code",
      "metadata": {
        "id": "FHtM87Z35qX-"
      },
      "source": [
        "#setting index to date so that I can slice better\n",
        "all_tweets = all_tweets.set_index('tweetcreatedts').sort_index()"
      ],
      "execution_count": 39,
      "outputs": []
    },
    {
      "cell_type": "code",
      "metadata": {
        "colab": {
          "base_uri": "https://localhost:8080/",
          "height": 418
        },
        "id": "LYZondjSBxU2",
        "outputId": "7610cb5f-9522-4ae4-80fb-ffb7695a24e5"
      },
      "source": [
        "all_tweets.tail()"
      ],
      "execution_count": 40,
      "outputs": [
        {
          "output_type": "execute_result",
          "data": {
            "text/html": [
              "<div>\n",
              "<style scoped>\n",
              "    .dataframe tbody tr th:only-of-type {\n",
              "        vertical-align: middle;\n",
              "    }\n",
              "\n",
              "    .dataframe tbody tr th {\n",
              "        vertical-align: top;\n",
              "    }\n",
              "\n",
              "    .dataframe thead th {\n",
              "        text-align: right;\n",
              "    }\n",
              "</style>\n",
              "<table border=\"1\" class=\"dataframe\">\n",
              "  <thead>\n",
              "    <tr style=\"text-align: right;\">\n",
              "      <th></th>\n",
              "      <th>username</th>\n",
              "      <th>acctdesc</th>\n",
              "      <th>location</th>\n",
              "      <th>following</th>\n",
              "      <th>followers</th>\n",
              "      <th>totaltweets</th>\n",
              "      <th>usercreatedts</th>\n",
              "      <th>retweetcount</th>\n",
              "      <th>text</th>\n",
              "      <th>hashtags</th>\n",
              "      <th>likes</th>\n",
              "      <th>weekday</th>\n",
              "      <th>hour</th>\n",
              "      <th>acctyear</th>\n",
              "    </tr>\n",
              "    <tr>\n",
              "      <th>tweetcreatedts</th>\n",
              "      <th></th>\n",
              "      <th></th>\n",
              "      <th></th>\n",
              "      <th></th>\n",
              "      <th></th>\n",
              "      <th></th>\n",
              "      <th></th>\n",
              "      <th></th>\n",
              "      <th></th>\n",
              "      <th></th>\n",
              "      <th></th>\n",
              "      <th></th>\n",
              "      <th></th>\n",
              "      <th></th>\n",
              "    </tr>\n",
              "  </thead>\n",
              "  <tbody>\n",
              "    <tr>\n",
              "      <th>2021-04-04 21:31:42</th>\n",
              "      <td>MyunusualSelf_</td>\n",
              "      <td>NaN</td>\n",
              "      <td>The Kings Landing</td>\n",
              "      <td>NaN</td>\n",
              "      <td>1152</td>\n",
              "      <td>4690</td>\n",
              "      <td>2019-04-07 10:27:14</td>\n",
              "      <td>11</td>\n",
              "      <td>RT @AyomipoGideon: Dr. Dipo, you are supposed ...</td>\n",
              "      <td>NaN</td>\n",
              "      <td>0.0</td>\n",
              "      <td>Sun</td>\n",
              "      <td>21</td>\n",
              "      <td>2019</td>\n",
              "    </tr>\n",
              "    <tr>\n",
              "      <th>2021-04-04 21:37:54</th>\n",
              "      <td>AdebamboOluwas4</td>\n",
              "      <td>NaN</td>\n",
              "      <td>Ibafo</td>\n",
              "      <td>NaN</td>\n",
              "      <td>24</td>\n",
              "      <td>636</td>\n",
              "      <td>2019-12-25 14:57:52</td>\n",
              "      <td>0</td>\n",
              "      <td>@OgbeniDipo Dr. Dipo, pls sir, open your DM. I...</td>\n",
              "      <td>NaN</td>\n",
              "      <td>0.0</td>\n",
              "      <td>Sun</td>\n",
              "      <td>21</td>\n",
              "      <td>2019</td>\n",
              "    </tr>\n",
              "    <tr>\n",
              "      <th>2021-04-04 21:44:11</th>\n",
              "      <td>persie79539668</td>\n",
              "      <td>NaN</td>\n",
              "      <td>NaN</td>\n",
              "      <td>NaN</td>\n",
              "      <td>0</td>\n",
              "      <td>15</td>\n",
              "      <td>2020-10-14 10:18:20</td>\n",
              "      <td>0</td>\n",
              "      <td>@OgbeniDipo Dipo, don’t make these guys turn y...</td>\n",
              "      <td>NaN</td>\n",
              "      <td>0.0</td>\n",
              "      <td>Sun</td>\n",
              "      <td>21</td>\n",
              "      <td>2020</td>\n",
              "    </tr>\n",
              "    <tr>\n",
              "      <th>2021-04-04 21:47:21</th>\n",
              "      <td>Bashirboy</td>\n",
              "      <td>NaN</td>\n",
              "      <td>Lagos, Nigeria</td>\n",
              "      <td>NaN</td>\n",
              "      <td>1819</td>\n",
              "      <td>23621</td>\n",
              "      <td>2011-04-04 09:08:50</td>\n",
              "      <td>0</td>\n",
              "      <td>@OgbeniDipo Dr. Dipo himself with this tweet p...</td>\n",
              "      <td>NaN</td>\n",
              "      <td>0.0</td>\n",
              "      <td>Sun</td>\n",
              "      <td>21</td>\n",
              "      <td>2011</td>\n",
              "    </tr>\n",
              "    <tr>\n",
              "      <th>2021-04-05 04:40:35</th>\n",
              "      <td>EEchekwu</td>\n",
              "      <td>NaN</td>\n",
              "      <td>Lagos,  Nigeria</td>\n",
              "      <td>NaN</td>\n",
              "      <td>48</td>\n",
              "      <td>947</td>\n",
              "      <td>2018-11-15 00:04:44</td>\n",
              "      <td>0</td>\n",
              "      <td>@OgbeniDipo O boy ,who dey make dipo vex na</td>\n",
              "      <td>NaN</td>\n",
              "      <td>0.0</td>\n",
              "      <td>Mon</td>\n",
              "      <td>4</td>\n",
              "      <td>2018</td>\n",
              "    </tr>\n",
              "  </tbody>\n",
              "</table>\n",
              "</div>"
            ],
            "text/plain": [
              "                            username acctdesc  ... hour  acctyear\n",
              "tweetcreatedts                                 ...               \n",
              "2021-04-04 21:31:42   MyunusualSelf_      NaN  ...   21      2019\n",
              "2021-04-04 21:37:54  AdebamboOluwas4      NaN  ...   21      2019\n",
              "2021-04-04 21:44:11   persie79539668      NaN  ...   21      2020\n",
              "2021-04-04 21:47:21        Bashirboy      NaN  ...   21      2011\n",
              "2021-04-05 04:40:35         EEchekwu      NaN  ...    4      2018\n",
              "\n",
              "[5 rows x 14 columns]"
            ]
          },
          "metadata": {
            "tags": []
          },
          "execution_count": 40
        }
      ]
    },
    {
      "cell_type": "code",
      "metadata": {
        "colab": {
          "base_uri": "https://localhost:8080/"
        },
        "id": "jB1LB4wKWJL_",
        "outputId": "b57a57d2-d4f3-477a-daf1-e098e80ed65f"
      },
      "source": [
        "len(all_tweets)"
      ],
      "execution_count": 41,
      "outputs": [
        {
          "output_type": "execute_result",
          "data": {
            "text/plain": [
              "1421"
            ]
          },
          "metadata": {
            "tags": []
          },
          "execution_count": 41
        }
      ]
    },
    {
      "cell_type": "code",
      "metadata": {
        "id": "Fyh5t7M7t-CH"
      },
      "source": [
        "#before moving forward, we need to remove all the personal tweets of Dr dipo\n",
        "general_tweets = all_tweets[all_tweets['username'] != 'OgbeniDipo']\n",
        "peronal_tweets = all_tweets[all_tweets['username'] == 'OgbeniDipo']"
      ],
      "execution_count": 42,
      "outputs": []
    },
    {
      "cell_type": "code",
      "metadata": {
        "colab": {
          "base_uri": "https://localhost:8080/"
        },
        "id": "ld3m22yOzItV",
        "outputId": "51798aba-b74d-4889-cf35-db36eac51b1e"
      },
      "source": [
        "#1. get the top 5 username that tweeted most often\n",
        "top5 =(general_tweets.groupby('username').count().sort_values(by= 'text', ascending = False))\n",
        "print(top5.iloc[1:6]['text'])\n",
        "#printing the text of the first tweeter\n",
        "print(general_tweets[general_tweets['username'] == 'PurpleIntestine']['text'])\n"
      ],
      "execution_count": 134,
      "outputs": [
        {
          "output_type": "stream",
          "text": [
            "username\n",
            "PurpleIntestine    14\n",
            "fuski_             12\n",
            "Stan_Europe        11\n",
            "tikobadman          6\n",
            "IconicNino          5\n",
            "Name: text, dtype: int64\n",
            "tweetcreatedts\n",
            "2021-03-24 14:22:16                                                  @DAFLOWABIOYE @Oreoluwa__x @OgbeniDipo  Ogbeni Dipo is a scam. The yeye CV review na scam. With his PhD what value has he created? It's high time we reported him to UK authority. He's a Vulture. Looking to feed on already disadvantaged student. Thunder faya you Ogbeni Dipo\n",
            "2021-03-24 14:25:50                                                                                                          @OgbeniDipo Let nobody subscribe to Ogbeni Dipo. He preys on unemployed Student seeking job. He cant try that in the UK. How may people have you helped in UK. Desist from your cannibalistic attitude. Thunder faya you.\n",
            "2021-03-24 14:39:06                                  @Prayerhouse144 @FS_Yusuf_ @OgbeniDipo it's high time Nigerian realized dt Ogbeni Dipo is after his pocket. How many people are employed in UK through his yeye masterclass.The guy is a Vulture preying on innocent unemployed youth. If Dipo was the President, he will pocket the whole nation\n",
            "2021-03-24 14:53:55                                                                                                @henry_iro @omidanabeni @OgbeniDipo it's people like Ogbeni Dipo that will announce 10k scholarship for 2 people yet sell form for 5k for 100 people. Yeye ole. He didn't know that people don get him scam. Thunder Faya you Dipo.\n",
            "2021-03-24 14:57:03                                                                                                                             @kalempire @okorolambert @omidanabeni @OgbeniDipo  Dipo is a real jobberman. A Vulture. Always preying on innocent unemployed Nigerian Youths. Thunder Faya you Dipo. The guy with his PhD na parasite\n",
            "2021-03-24 15:43:10                                                                                                                                                                                                                                                @OgbeniDipo Thunder ⚡ Faya you Dipo.\\nThunder Faya you Dipo https://t.co/EJfrZyR8um\n",
            "2021-03-24 17:52:42                                                                                                                                                                                                                       @DayoAlhassan @OgbeniDipo ⚡ Thunder Faya you Dayo\\nThunder Faya you Dipo repeat😂😂😂💥💥💥Dipo your beans is done\n",
            "2021-03-24 18:03:33                                                                                                                                                        @OgbeniDipo @boss_donnyperry @DAFLOWABIOYE Ogbeni Dipo why d vawulence against thee? Just go and drink warm water ,baff with black soap and sleep 😅 https://t.co/Xuog6v58Of\n",
            "2021-03-24 18:05:18                                                                                                                                                                                    @OgbeniDipo @Omojuwa Dipo stop spreading false information. Dipo how far with the house at Ajangbadi? As the agent how much is your commission?\n",
            "2021-03-24 18:06:06                                                                                                                                                                                                                                                                                                 @OgbeniDipo Dipo can you fry dodo?\n",
            "2021-03-24 18:40:26                                                                   @DayoAlhassan @OgbeniDipo @Omojuwa \\nOgbeni Dipo Geng awon perspire, aspire to refire b4 you retire. What is your is equal to = gann? Lori iro. Just dey hustle people upanddan. With your 9.0/5 CGPA(1stclass^9) no be CV u dey review? https://t.co/jZ6kfV87lU\n",
            "2021-03-24 18:56:36                           @Ryhnogee @Real_Damilare10 @olori_lfc @OgbeniDipo @Jarushub \\nNo mind Dipo. Anytime first-class. Is he an employer of labour? And that Jarushub. We go go soon drag am too. Anything, I finished with a 1st class 9.0/5.are you not still an employee and also reviewing CV.\\nAwon oni rederede.#loriiro\n",
            "2021-03-24 19:06:16    @Ryhnogee @Real_Damilare10 @olori_lfc @OgbeniDipo @Jarushub @OgbeniDipo @Jarushub \\nNo mind Dipo. Anytime first-class. Is he an employer of labour? And that @Jarushub. We go go soon drag am too. Anything, I finished with a 1st class 9.0/5.are you not still an employee and also reviewing CV.\\nAwon oni rederede.#loriiro\n",
            "2021-03-24 19:08:05                                                      @Jarushub @OgbeniDipo @Jarushub \\nNo mind Dipo. Anytime first-class. Is he an employer of labour? And that @Jarushub. We go go soon drag am too. Anything, I finished with a 1st class 9.0/5.are you not still an employee and also reviewing CV.\\nAwon oni rederede.#loriiro\n",
            "Name: text, dtype: object\n"
          ],
          "name": "stdout"
        }
      ]
    },
    {
      "cell_type": "markdown",
      "metadata": {
        "id": "08enL2bjLqwx"
      },
      "source": [
        "Most of the tweets are on the 24th because Dr Dipo trended that day, quite a memorable event."
      ]
    },
    {
      "cell_type": "markdown",
      "metadata": {
        "id": "kPpAciPVRDNt"
      },
      "source": [
        "\n",
        "\n",
        "*Answer: these top5 people tweeted the most, who are they?\n",
        "let us go and ask Dr Dipo* "
      ]
    },
    {
      "cell_type": "code",
      "metadata": {
        "id": "7j_jIgf1_d9B",
        "colab": {
          "base_uri": "https://localhost:8080/"
        },
        "outputId": "5fa3efcc-e9be-4fcf-a1a6-b1e79b76ab64"
      },
      "source": [
        "#2. Nigerian location of where most tweets came from, state of capital\n",
        "state_and_capital = ['Umuahia', 'Yola', 'Uyo', 'Awka', 'Bauchi', 'Yenagoa', 'Makurdi', 'Maiduguri', 'Calabar', 'Asaba', 'Abakaliki', 'Benin City', 'Ado - Ekiti', 'Enugu', 'Gombe', 'Owerri', 'Dutse', 'Kaduna', 'Kano', 'Katsina', 'Birnin Kebbi', 'Lokoja', 'Ilorin', 'Ikeja', 'Lafia', 'Minna', 'Abeokuta', 'Akure', 'Oshogbo', 'Ibadan', 'Jos', 'Port Harcourt', 'Sokoto', 'Jalingo', 'Damaturu', 'Gusau', 'Umuahia', 'Yola', 'Uyo', 'Awka', 'Bauchi', 'Yenagoa', 'Makurdi', 'Maiduguri', 'Calabar', 'Asaba', 'Abakaliki', 'Benin City', 'Ado - Ekiti', 'Enugu', 'Gombe', 'Owerri', 'Dutse', 'Kaduna', 'Kano', 'Katsina', 'Birnin Kebbi', 'Lokoja', 'Ilorin', 'Ikeja', 'Lafia', 'Minna', 'Abeokuta', 'Akure', 'Oshogbo', 'Ibadan', 'Jos', 'Port Harcourt', 'Sokoto', 'Jalingo', 'Damaturu', 'Gusau']\n",
        "tweet_with_location = all_tweets.dropna(subset=['location'])\n",
        "\n",
        "real_location = []\n",
        "##iterating over the locations\n",
        "for x in state_and_capital:\n",
        "  for y in tweet_with_location['location']:\n",
        "    #print(y)\n",
        "    if x in y:\n",
        "      real_location.append(x)\n",
        "  \n",
        "print(real_location)\n",
        "print(len(real_location))\n",
        "\n",
        "\n",
        "dic = dict ()\n",
        "for location in real_location:\n",
        "  dic[location] = dic.get (location, 0) + 1\n",
        "\n",
        "print(dic)"
      ],
      "execution_count": 46,
      "outputs": [
        {
          "output_type": "stream",
          "text": [
            "['Yola', 'Uyo', 'Awka', 'Awka', 'Makurdi', 'Calabar', 'Calabar', 'Calabar', 'Asaba', 'Asaba', 'Enugu', 'Enugu', 'Enugu', 'Enugu', 'Enugu', 'Enugu', 'Enugu', 'Enugu', 'Enugu', 'Owerri', 'Kaduna', 'Kaduna', 'Kaduna', 'Kaduna', 'Kaduna', 'Kano', 'Katsina', 'Ilorin', 'Ilorin', 'Ilorin', 'Ilorin', 'Ilorin', 'Ilorin', 'Ilorin', 'Ilorin', 'Ilorin', 'Ilorin', 'Ikeja', 'Ikeja', 'Ikeja', 'Ikeja', 'Ikeja', 'Ikeja', 'Ikeja', 'Minna', 'Abeokuta', 'Abeokuta', 'Abeokuta', 'Abeokuta', 'Abeokuta', 'Abeokuta', 'Akure', 'Akure', 'Akure', 'Akure', 'Oshogbo', 'Ibadan', 'Ibadan', 'Ibadan', 'Ibadan', 'Ibadan', 'Ibadan', 'Ibadan', 'Ibadan', 'Ibadan', 'Ibadan', 'Ibadan', 'Ibadan', 'Ibadan', 'Ibadan', 'Ibadan', 'Ibadan', 'Ibadan', 'Ibadan', 'Ibadan', 'Ibadan', 'Ibadan', 'Ibadan', 'Ibadan', 'Ibadan', 'Ibadan', 'Jos', 'Jos', 'Jos', 'Jos', 'Jos', 'Port Harcourt', 'Port Harcourt', 'Port Harcourt', 'Port Harcourt', 'Port Harcourt', 'Port Harcourt', 'Port Harcourt', 'Port Harcourt', 'Port Harcourt', 'Port Harcourt', 'Port Harcourt', 'Port Harcourt', 'Port Harcourt', 'Yola', 'Uyo', 'Awka', 'Awka', 'Makurdi', 'Calabar', 'Calabar', 'Calabar', 'Asaba', 'Asaba', 'Enugu', 'Enugu', 'Enugu', 'Enugu', 'Enugu', 'Enugu', 'Enugu', 'Enugu', 'Enugu', 'Owerri', 'Kaduna', 'Kaduna', 'Kaduna', 'Kaduna', 'Kaduna', 'Kano', 'Katsina', 'Ilorin', 'Ilorin', 'Ilorin', 'Ilorin', 'Ilorin', 'Ilorin', 'Ilorin', 'Ilorin', 'Ilorin', 'Ilorin', 'Ikeja', 'Ikeja', 'Ikeja', 'Ikeja', 'Ikeja', 'Ikeja', 'Ikeja', 'Minna', 'Abeokuta', 'Abeokuta', 'Abeokuta', 'Abeokuta', 'Abeokuta', 'Abeokuta', 'Akure', 'Akure', 'Akure', 'Akure', 'Oshogbo', 'Ibadan', 'Ibadan', 'Ibadan', 'Ibadan', 'Ibadan', 'Ibadan', 'Ibadan', 'Ibadan', 'Ibadan', 'Ibadan', 'Ibadan', 'Ibadan', 'Ibadan', 'Ibadan', 'Ibadan', 'Ibadan', 'Ibadan', 'Ibadan', 'Ibadan', 'Ibadan', 'Ibadan', 'Ibadan', 'Ibadan', 'Ibadan', 'Ibadan', 'Jos', 'Jos', 'Jos', 'Jos', 'Jos', 'Port Harcourt', 'Port Harcourt', 'Port Harcourt', 'Port Harcourt', 'Port Harcourt', 'Port Harcourt', 'Port Harcourt', 'Port Harcourt', 'Port Harcourt', 'Port Harcourt', 'Port Harcourt', 'Port Harcourt', 'Port Harcourt']\n",
            "198\n",
            "{'Yola': 2, 'Uyo': 2, 'Awka': 4, 'Makurdi': 2, 'Calabar': 6, 'Asaba': 4, 'Enugu': 18, 'Owerri': 2, 'Kaduna': 10, 'Kano': 2, 'Katsina': 2, 'Ilorin': 20, 'Ikeja': 14, 'Minna': 2, 'Abeokuta': 12, 'Akure': 8, 'Oshogbo': 2, 'Ibadan': 50, 'Jos': 10, 'Port Harcourt': 26}\n"
          ],
          "name": "stdout"
        }
      ]
    },
    {
      "cell_type": "code",
      "metadata": {
        "id": "GDnVeEK0wNPb",
        "colab": {
          "base_uri": "https://localhost:8080/"
        },
        "outputId": "072f044d-773d-4f0a-b723-be8040d242af"
      },
      "source": [
        "newl = list ()\n",
        "for k,v in dic.items () :\n",
        "    newl.append ((v,k))\n",
        "newl = sorted (newl, reverse = True)    \n",
        "print (newl)\n",
        "location= []\n",
        "location_count = []\n",
        "for v,k in sorted (newl, reverse = True):\n",
        "  print (k,v)\n",
        "  location.append(k)\n",
        "  location_count.append(v)\n",
        "\n",
        "print(location, location_count)"
      ],
      "execution_count": 64,
      "outputs": [
        {
          "output_type": "stream",
          "text": [
            "[(50, 'Ibadan'), (26, 'Port Harcourt'), (20, 'Ilorin'), (18, 'Enugu'), (14, 'Ikeja'), (12, 'Abeokuta'), (10, 'Kaduna'), (10, 'Jos'), (8, 'Akure'), (6, 'Calabar'), (4, 'Awka'), (4, 'Asaba'), (2, 'Yola'), (2, 'Uyo'), (2, 'Owerri'), (2, 'Oshogbo'), (2, 'Minna'), (2, 'Makurdi'), (2, 'Katsina'), (2, 'Kano')]\n",
            "Ibadan 50\n",
            "Port Harcourt 26\n",
            "Ilorin 20\n",
            "Enugu 18\n",
            "Ikeja 14\n",
            "Abeokuta 12\n",
            "Kaduna 10\n",
            "Jos 10\n",
            "Akure 8\n",
            "Calabar 6\n",
            "Awka 4\n",
            "Asaba 4\n",
            "Yola 2\n",
            "Uyo 2\n",
            "Owerri 2\n",
            "Oshogbo 2\n",
            "Minna 2\n",
            "Makurdi 2\n",
            "Katsina 2\n",
            "Kano 2\n",
            "['Ibadan', 'Port Harcourt', 'Ilorin', 'Enugu', 'Ikeja', 'Abeokuta', 'Kaduna', 'Jos', 'Akure', 'Calabar', 'Awka', 'Asaba', 'Yola', 'Uyo', 'Owerri', 'Oshogbo', 'Minna', 'Makurdi', 'Katsina', 'Kano'] [50, 26, 20, 18, 14, 12, 10, 10, 8, 6, 4, 4, 2, 2, 2, 2, 2, 2, 2, 2]\n"
          ],
          "name": "stdout"
        }
      ]
    },
    {
      "cell_type": "code",
      "metadata": {
        "colab": {
          "base_uri": "https://localhost:8080/",
          "height": 598
        },
        "id": "suIqjnEU2kfM",
        "outputId": "fc327862-b001-4ffe-8cf4-8eef79ffc6d0"
      },
      "source": [
        "#plotting location against location count\n",
        "plt.figure(figsize=(12, 8))\n",
        "ax = plt.bar(location, location_count, align='edge')\n",
        "plt.xlabel('Location of the tweeters in Nigeria')\n",
        "plt.ylabel('Number of tweets per location')\n",
        "plt.xticks(rotation= 60)\n",
        "\n",
        "fig.tight_layout()\n",
        "rects = ax.patches\n",
        "for rect, label in zip(rects, location_count):\n",
        "    height = rect.get_height()\n",
        "    plt.text(rect.get_x() + rect.get_width() / 2, height + 1, label,\n",
        "            ha='center', va='bottom')\n",
        "plt.title('Tweeters Location')\n",
        "plt.rcParams.update({'font.size': 14})\n",
        "plt.show()"
      ],
      "execution_count": 135,
      "outputs": [
        {
          "output_type": "display_data",
          "data": {
            "image/png": "[encoded data removed]",
            "text/plain": [
              "<Figure size 864x576 with 1 Axes>"
            ]
          },
          "metadata": {
            "tags": [],
            "needs_background": "light"
          }
        }
      ]
    },
    {
      "cell_type": "code",
      "metadata": {
        "colab": {
          "base_uri": "https://localhost:8080/"
        },
        "id": "JNc6BXqW0oX1",
        "outputId": "739b2bd2-51ed-478a-e13b-f5cb67690f14"
      },
      "source": [
        "#Top 5 influencers that tweeted about Dr Dipo or engaged other people's post\n",
        "followers = general_tweets[['username', 'followers']].sort_values(by= 'followers', ascending = False).drop_duplicates(subset = 'username')\n",
        "## getting what they said\n",
        "tweets_f = general_tweets.sort_values(by= 'followers', ascending = False).drop_duplicates(subset = 'username')[['username', 'text']] \n",
        "pd.set_option('display.max_colwidth', None)\n",
        "print(tweets_f.iloc[1:6])\n",
        "print(followers.iloc[1:6])"
      ],
      "execution_count": 136,
      "outputs": [
        {
          "output_type": "stream",
          "text": [
            "                            username                                                                                                                                                                                                                                                                                                                                                       text\n",
            "tweetcreatedts                                                                                                                                                                                                                                                                                                                                                                                 \n",
            "2021-03-25 08:47:43  MisterRedefined                                                             You Spitting rubbish was just a short while ago drolly over @OgbeniDipo DM. \\nThe Problem with us is we seek the easy way out, without working it out ourselves, Many of you beg for CV review, SOP, &amp; Cover letter writing, Yet come here to blow grammar.\\nOga Grammarian. \\nOgbeni Dipo\n",
            "2021-03-25 06:46:45       PoojaMedia                                                                                                                                                                                                         Ogbeni Dipo is in the mix of youths that drags, follows the mob &amp; surely needs CV reviews. \\n\\nSo his business as str… https://t.co/EriUsog3Er\n",
            "2021-04-01 09:42:38     BhadmusAkeem                                                                                                                                                                                                            Yes, Ogbeni Dipo &amp; any other CV reviewers will help you come up with a fancy CV, but if you can't express yourself… https://t.co/732ir2r1f1\n",
            "2021-03-25 07:43:01      TheOladeile  @oshoarmani @monell_M2R @osinachakanegbu @OgbeniDipo @akintollgate @boluxxxx Dishonest people will always twist things for agenda. Desmond was talking about things he had done in his community without mentioning anything about education. Ogbeni Dipo then offered to train the youths in DE constituent. DE then said he would love to work on that.\n",
            "2021-04-02 13:43:58  wakawaka_doctor                                                                                                                                                                                                                                                                                               @OgbeniDipo 😂😂😂😂😂 I know Dipo. I dey follow your banter noni\n",
            "                            username  followers\n",
            "tweetcreatedts                                 \n",
            "2021-03-25 08:47:43  MisterRedefined      88876\n",
            "2021-03-25 06:46:45       PoojaMedia      74969\n",
            "2021-04-01 09:42:38     BhadmusAkeem      74441\n",
            "2021-03-25 07:43:01      TheOladeile      71092\n",
            "2021-04-02 13:43:58  wakawaka_doctor      67371\n"
          ],
          "name": "stdout"
        }
      ]
    },
    {
      "cell_type": "code",
      "metadata": {
        "colab": {
          "base_uri": "https://localhost:8080/"
        },
        "id": "CIK-zh43lvtU",
        "outputId": "2ffdacbc-3e70-418f-cd63-488e9eb44d1e"
      },
      "source": [
        "#Top 5 tweets that were retweeted as at this point\n",
        "retweets = general_tweets[['username', 'retweetcount', 'text']].sort_values(by= 'retweetcount', ascending = False)\n",
        "print(retweets.iloc[1:6])"
      ],
      "execution_count": 138,
      "outputs": [
        {
          "output_type": "stream",
          "text": [
            "                       username  ...                                                                                                                                                                                                                                                                                                   text\n",
            "tweetcreatedts                   ...                                                                                                                                                                                                                                                                                                       \n",
            "2021-04-04 12:33:05  dipo_smart  ...                                                                                                                                                           RT @markessien: Here is the Doctor who did the brain surgery - Dr. Omotayo Ojo (Consultant Neurosurgeon at Lagoos Hospital). https://t.co/V…\n",
            "2021-03-17 09:44:19   Bizcraft9  ...          Dear Sir\\n\\nPlease find attached a copy of my CV for the advertised role. I have two years experience in branding and marketing. My core skills include xxxx, xxxx and xxxxx.\\n\\nI look forward to hearing from you. Thank you for your time and consideration.\\n\\nKind regards\\nDipo Awojide\n",
            "2021-03-20 14:22:53     Dipo_Ol  ...             If your CGPA is anything from 1.5 to 2.9, do your absolute best to scale up to at least 3.0. \\n\\nIf you have tried all your possible best and nothing changes, don’t worry, you might still make it in life. \\n\\nSkills, street sense, self-confidence and networking will make it happen.\n",
            "2021-03-18 01:51:23  dipo_smart  ...  Let me help you rephrase. *CLEARS THROAT*\\n\\n\"Dr Stephen Ukenna, a 41 year old lecturer in the Department of Business Management, Covenant University has been arrested by the Ogun State police for raping a 17 year old student of the university.\" https://t.co/fZLRJbyocl https://t.co/HA2Pk7DzNo\n",
            "2021-03-18 17:03:20     Dipo_Ol  ...                                                                                                             If you add up Jay Z, Diddy, Dr Dre, Eminem, Master P, Drake, Ice Cube, Pharrell and Snoop Dogg Net worth together, Kanye West is still richer than all of them combined \\nThat’s Crazy !!!\n",
            "\n",
            "[5 rows x 3 columns]\n"
          ],
          "name": "stdout"
        }
      ]
    },
    {
      "cell_type": "markdown",
      "metadata": {
        "id": "rEP9oue2F7j3"
      },
      "source": [
        "Who is this Dipo_Ol sef?\n",
        "He had the 5th highest number of tweet, now the 2nd highest  retweets\n",
        "Recommendation: Round table meeting immediately!!!"
      ]
    },
    {
      "cell_type": "code",
      "metadata": {
        "id": "zO9NWcdWMIeQ"
      },
      "source": [
        "general_tweets[general_tweets['acctyear'] == 2013]"
      ],
      "execution_count": null,
      "outputs": []
    },
    {
      "cell_type": "code",
      "metadata": {
        "colab": {
          "base_uri": "https://localhost:8080/",
          "height": 420
        },
        "id": "0G-lUaoo12VL",
        "outputId": "0077ad91-b062-4958-d6ba-8bddcab7cc62"
      },
      "source": [
        "# account age distribution of the tweeters \n",
        "plt.figure(figsize=(10, 6))\n",
        "years = [year  for year, df in general_tweets.groupby('acctyear')]\n",
        "plt.bar(years, general_tweets.groupby('acctyear')['acctyear'].count())\n",
        "plt.xticks(years)\n",
        "plt.xlabel('Account creation year')\n",
        "plt.ylabel('Year frequency')\n",
        "plt.xticks(rotation= 60)\n",
        "plt.show()"
      ],
      "execution_count": 169,
      "outputs": [
        {
          "output_type": "display_data",
          "data": {
            "image/png": "[encoded data removed]",
            "text/plain": [
              "<Figure size 720x432 with 1 Axes>"
            ]
          },
          "metadata": {
            "tags": [],
            "needs_background": "light"
          }
        }
      ]
    },
    {
      "cell_type": "code",
      "metadata": {
        "id": "OIoLEga8UfgP"
      },
      "source": [
        "###omo most of these people are new twitter users which indiccate that the maerket audince is probably teenagers dominated/\n"
      ],
      "execution_count": null,
      "outputs": []
    },
    {
      "cell_type": "markdown",
      "metadata": {
        "id": "mVCx1grRAMnR"
      },
      "source": [
        "For effective exploratory analysis I will have to divide the data in week 1, 2, and 3. This is neccessary to avoid bias caused by the trend on 24-3-24"
      ]
    },
    {
      "cell_type": "code",
      "metadata": {
        "colab": {
          "base_uri": "https://localhost:8080/"
        },
        "id": "mnQZzWHo1Vzj",
        "outputId": "bbf0c914-46a6-497a-b0f4-3fddf570df61"
      },
      "source": [
        "#getting index So I can drop the trend of 24th\n",
        "general_tweets.index.get_loc('2021-3-24')"
      ],
      "execution_count": 170,
      "outputs": [
        {
          "output_type": "execute_result",
          "data": {
            "text/plain": [
              "slice(303, 646, None)"
            ]
          },
          "metadata": {
            "tags": []
          },
          "execution_count": 170
        }
      ]
    },
    {
      "cell_type": "code",
      "metadata": {
        "id": "h_0eZ7GKA1ed"
      },
      "source": [
        "\n",
        "no_bias =general_tweets.drop(general_tweets.index[303:646])\n",
        "\n",
        "#week1 monday to sunday 2021-03-15 and 2021-03-21\n",
        "week1 = general_tweets.loc['2021-3-15': '2021-3-21']\n",
        "#week2 monday to sunday 2021-03-22 and 2021-03-28\n",
        "week2 = no_bias.loc['2021-3-22': '2021-3-28']\n",
        "#week3 monday to sunday 2021-03-22 and 2021-03-28\n",
        "week3 = general_tweets.loc['2021-3-29': '2021-4-4']"
      ],
      "execution_count": 179,
      "outputs": []
    },
    {
      "cell_type": "code",
      "metadata": {
        "colab": {
          "base_uri": "https://localhost:8080/"
        },
        "id": "MmlIq9EsDHwt",
        "outputId": "9a08db15-710f-4df8-e3a8-9072457c41a9"
      },
      "source": [
        "print(week2.loc['2021-3-24'])"
      ],
      "execution_count": 172,
      "outputs": [
        {
          "output_type": "stream",
          "text": [
            "Empty DataFrame\n",
            "Columns: [username, acctdesc, location, following, followers, totaltweets, usercreatedts, retweetcount, text, hashtags, likes, weekday, hour, acctyear]\n",
            "Index: []\n"
          ],
          "name": "stdout"
        }
      ]
    },
    {
      "cell_type": "code",
      "metadata": {
        "colab": {
          "base_uri": "https://localhost:8080/",
          "height": 525
        },
        "id": "VZio4JCaVNKu",
        "outputId": "e37df164-3402-48ab-fa6f-76fa8c646856"
      },
      "source": [
        "# Time of day the people tweeeted the most for all\n",
        "plt.figure(figsize=(12, 8))\n",
        "hours = [hour  for hour, df in general_tweets.groupby('hour')]\n",
        "plt.plot(hours, week1.groupby('hour')['text'].count(), color = 'red', label = 'Week 1', linewidth = 3)\n",
        "plt.plot(hours, week2.groupby('hour')['text'].count(),  color = 'green', Label = 'Week 2', linewidth = 3)\n",
        "plt.plot(hours, week3.groupby('hour')['text'].count(), Label = 'Week 3)', linewidth = 3)\n",
        "plt.xticks(hours)\n",
        "plt.xlabel('Hour of tweet')\n",
        "plt.ylabel('Number of Tweets')\n",
        "plt.title('Hourly Tweeting frequency')\n",
        "plt.grid()\n",
        "plt.legend()\n",
        "plt.show()\n"
      ],
      "execution_count": 183,
      "outputs": [
        {
          "output_type": "display_data",
          "data": {
            "image/png": "[encoded data removed]",
            "text/plain": [
              "<Figure size 864x576 with 1 Axes>"
            ]
          },
          "metadata": {
            "tags": [],
            "needs_background": "light"
          }
        }
      ]
    },
    {
      "cell_type": "code",
      "metadata": {
        "id": "mkfP6eHJXmXQ"
      },
      "source": [
        "#So these people tweet the most at 9am, next is 12pm and finally by 8pm"
      ],
      "execution_count": null,
      "outputs": []
    },
    {
      "cell_type": "code",
      "metadata": {
        "colab": {
          "base_uri": "https://localhost:8080/"
        },
        "id": "aV5xo2s0lLx0",
        "outputId": "27dffa4a-85aa-4b6b-a23d-3fc78c6d80ff"
      },
      "source": [
        "print(general_tweets.groupby('weekday').count())"
      ],
      "execution_count": 186,
      "outputs": [
        {
          "output_type": "stream",
          "text": [
            "         username  acctdesc  location  ...  likes  hour  acctyear\n",
            "weekday                                ...                       \n",
            "Fri           156        54       122  ...    100   156       156\n",
            "Mon            71        54        57  ...     16    71        71\n",
            "Sat           188        70       151  ...    111   188       188\n",
            "Sun           150        24       121  ...    124   150       150\n",
            "Thu           392        72       322  ...    316   392       392\n",
            "Tue            65        45        51  ...     15    65        65\n",
            "Wed           399       295       318  ...     91   399       399\n",
            "\n",
            "[7 rows x 13 columns]\n"
          ],
          "name": "stdout"
        }
      ]
    },
    {
      "cell_type": "code",
      "metadata": {
        "colab": {
          "base_uri": "https://localhost:8080/"
        },
        "id": "A8MVJmIy6gxw",
        "outputId": "1ff2fe18-76f5-4424-8ab1-9169ee636c3b"
      },
      "source": [
        "print( week1.groupby('weekday')['text'].count())"
      ],
      "execution_count": 188,
      "outputs": [
        {
          "output_type": "stream",
          "text": [
            "weekday\n",
            "Fri    56\n",
            "Mon    14\n",
            "Sat    77\n",
            "Sun    26\n",
            "Thu    18\n",
            "Tue    26\n",
            "Wed    21\n",
            "Name: text, dtype: int64\n"
          ],
          "name": "stdout"
        }
      ]
    },
    {
      "cell_type": "code",
      "metadata": {
        "colab": {
          "base_uri": "https://localhost:8080/",
          "height": 416
        },
        "id": "PCqxUru-eQ-v",
        "outputId": "23cd951f-da49-4605-dbc0-38f57b05a24f"
      },
      "source": [
        "# Day of the week the people tweeeted the most\n",
        "Days = [day  for day, df in general_tweets.groupby('weekday')]\n",
        "plt.figure(figsize=(10, 6))\n",
        "no_bias_days = [day  for day, df in week2.groupby('weekday')]\n",
        "plt.plot(Days, week1.groupby('weekday')['text'].count(), color = 'red', label = 'Week 1', linewidth = 3)\n",
        "plt.plot(no_bias_days,  week2.groupby('weekday')['text'].count(), color = 'green', Label = 'Week 2', linewidth = 3)\n",
        "plt.plot(Days, week3.groupby('weekday')['text'].count(), Label = 'Week 3', linewidth = 3)\n",
        "plt.xticks(Days)\n",
        "plt.xlabel('Day of tweet')\n",
        "plt.ylabel('Number of Tweets')\n",
        "plt.title('Daily Tweet Freq')\n",
        "plt.legend()\n",
        "plt.grid()\n",
        "plt.show()"
      ],
      "execution_count": 196,
      "outputs": [
        {
          "output_type": "display_data",
          "data": {
            "image/png": "[encoded data removed]",
            "text/plain": [
              "<Figure size 720x432 with 1 Axes>"
            ]
          },
          "metadata": {
            "tags": [],
            "needs_background": "light"
          }
        }
      ]
    },
    {
      "cell_type": "markdown",
      "metadata": {
        "id": "0zdl6U04aAZ2"
      },
      "source": [
        "There seems to be no pattern here, the tweet frequency is determined by how many tweets Dr Dipo drops for that day.\n",
        "But on a general note Saturday seems quite positive as the Thursday in week 2 is actually the remnants of the giveaway saga which I removed already; then Friday follows showing a consistent pattern."
      ]
    },
    {
      "cell_type": "code",
      "metadata": {
        "colab": {
          "base_uri": "https://localhost:8080/",
          "height": 129
        },
        "id": "uZOFjqZUe-zG",
        "outputId": "55ef44e4-ab00-4522-b90c-11270d64ae4d"
      },
      "source": [
        "#Sentiment Sentiment Sentiment"
      ],
      "execution_count": null,
      "outputs": [
        {
          "output_type": "error",
          "ename": "SyntaxError",
          "evalue": "ignored",
          "traceback": [
            "\u001b[0;36m  File \u001b[0;32m\"<ipython-input-22-1a09cefbd5f1>\"\u001b[0;36m, line \u001b[0;32m1\u001b[0m\n\u001b[0;31m    Sentiment Sentiment Sentiment\u001b[0m\n\u001b[0m                      ^\u001b[0m\n\u001b[0;31mSyntaxError\u001b[0m\u001b[0;31m:\u001b[0m invalid syntax\n"
          ]
        }
      ]
    },
    {
      "cell_type": "code",
      "metadata": {
        "colab": {
          "base_uri": "https://localhost:8080/"
        },
        "id": "U4omsZJsTGw8",
        "outputId": "6b7f16c0-9e5a-4fd5-b669-d2c825de12a8"
      },
      "source": [
        "!pip install vaderSentiment"
      ],
      "execution_count": 199,
      "outputs": [
        {
          "output_type": "stream",
          "text": [
            "Collecting vaderSentiment\n",
            "\u001b[?25l  Downloading https://files.pythonhosted.org/packages/76/fc/310e16254683c1ed35eeb97386986d6c00bc29df17ce280aed64d55537e9/vaderSentiment-3.3.2-py2.py3-none-any.whl (125kB)\n",
            "\r\u001b[K     |██▋                             | 10kB 15.6MB/s eta 0:00:01\r\u001b[K     |█████▏                          | 20kB 22.5MB/s eta 0:00:01\r\u001b[K     |███████▉                        | 30kB 12.6MB/s eta 0:00:01\r\u001b[K     |██████████▍                     | 40kB 10.0MB/s eta 0:00:01\r\u001b[K     |█████████████                   | 51kB 7.6MB/s eta 0:00:01\r\u001b[K     |███████████████▋                | 61kB 8.2MB/s eta 0:00:01\r\u001b[K     |██████████████████▏             | 71kB 8.2MB/s eta 0:00:01\r\u001b[K     |████████████████████▉           | 81kB 8.4MB/s eta 0:00:01\r\u001b[K     |███████████████████████▍        | 92kB 8.4MB/s eta 0:00:01\r\u001b[K     |██████████████████████████      | 102kB 8.8MB/s eta 0:00:01\r\u001b[K     |████████████████████████████▋   | 112kB 8.8MB/s eta 0:00:01\r\u001b[K     |███████████████████████████████▏| 122kB 8.8MB/s eta 0:00:01\r\u001b[K     |████████████████████████████████| 133kB 8.8MB/s \n",
            "\u001b[?25hRequirement already satisfied: requests in /usr/local/lib/python3.7/dist-packages (from vaderSentiment) (2.23.0)\n",
            "Requirement already satisfied: idna<3,>=2.5 in /usr/local/lib/python3.7/dist-packages (from requests->vaderSentiment) (2.10)\n",
            "Requirement already satisfied: certifi>=2017.4.17 in /usr/local/lib/python3.7/dist-packages (from requests->vaderSentiment) (2020.12.5)\n",
            "Requirement already satisfied: urllib3!=1.25.0,!=1.25.1,<1.26,>=1.21.1 in /usr/local/lib/python3.7/dist-packages (from requests->vaderSentiment) (1.24.3)\n",
            "Requirement already satisfied: chardet<4,>=3.0.2 in /usr/local/lib/python3.7/dist-packages (from requests->vaderSentiment) (3.0.4)\n",
            "Installing collected packages: vaderSentiment\n",
            "Successfully installed vaderSentiment-3.3.2\n"
          ],
          "name": "stdout"
        }
      ]
    },
    {
      "cell_type": "code",
      "metadata": {
        "id": "HimKSxyDGiao"
      },
      "source": [
        "from vaderSentiment.vaderSentiment import SentimentIntensityAnalyzer"
      ],
      "execution_count": 200,
      "outputs": []
    },
    {
      "cell_type": "code",
      "metadata": {
        "colab": {
          "base_uri": "https://localhost:8080/",
          "height": 792
        },
        "id": "kKFegZsCS0E0",
        "outputId": "7a25b4a0-05ea-4cce-c93d-3bafc29c10b4"
      },
      "source": [
        "# intializing the sentimenter \n",
        "analyzer = SentimentIntensityAnalyzer()\n",
        "# get sentiment score\n",
        "sentiment = general_tweets['text'].apply(lambda x: analyzer.polarity_scores(x))\n",
        "#put sentiment into dataframe\n",
        "sentimented_tweets = pd.concat([general_tweets, sentiment.apply(pd.Series)],1)\n",
        "sentimented_tweets.head()"
      ],
      "execution_count": 201,
      "outputs": [
        {
          "output_type": "execute_result",
          "data": {
            "text/html": [
              "<div>\n",
              "<style scoped>\n",
              "    .dataframe tbody tr th:only-of-type {\n",
              "        vertical-align: middle;\n",
              "    }\n",
              "\n",
              "    .dataframe tbody tr th {\n",
              "        vertical-align: top;\n",
              "    }\n",
              "\n",
              "    .dataframe thead th {\n",
              "        text-align: right;\n",
              "    }\n",
              "</style>\n",
              "<table border=\"1\" class=\"dataframe\">\n",
              "  <thead>\n",
              "    <tr style=\"text-align: right;\">\n",
              "      <th></th>\n",
              "      <th>username</th>\n",
              "      <th>acctdesc</th>\n",
              "      <th>location</th>\n",
              "      <th>following</th>\n",
              "      <th>followers</th>\n",
              "      <th>totaltweets</th>\n",
              "      <th>usercreatedts</th>\n",
              "      <th>retweetcount</th>\n",
              "      <th>text</th>\n",
              "      <th>hashtags</th>\n",
              "      <th>likes</th>\n",
              "      <th>weekday</th>\n",
              "      <th>hour</th>\n",
              "      <th>acctyear</th>\n",
              "      <th>neg</th>\n",
              "      <th>neu</th>\n",
              "      <th>pos</th>\n",
              "      <th>compound</th>\n",
              "    </tr>\n",
              "    <tr>\n",
              "      <th>tweetcreatedts</th>\n",
              "      <th></th>\n",
              "      <th></th>\n",
              "      <th></th>\n",
              "      <th></th>\n",
              "      <th></th>\n",
              "      <th></th>\n",
              "      <th></th>\n",
              "      <th></th>\n",
              "      <th></th>\n",
              "      <th></th>\n",
              "      <th></th>\n",
              "      <th></th>\n",
              "      <th></th>\n",
              "      <th></th>\n",
              "      <th></th>\n",
              "      <th></th>\n",
              "      <th></th>\n",
              "      <th></th>\n",
              "    </tr>\n",
              "  </thead>\n",
              "  <tbody>\n",
              "    <tr>\n",
              "      <th>2021-03-15 05:24:29</th>\n",
              "      <td>Ts_Czar</td>\n",
              "      <td>Nobody cares about you more than you do. Never outsource your happiness.</td>\n",
              "      <td>NaN</td>\n",
              "      <td>655.0</td>\n",
              "      <td>407</td>\n",
              "      <td>3968</td>\n",
              "      <td>2020-04-01 18:45:48</td>\n",
              "      <td>0</td>\n",
              "      <td>@OgbeniDipo Dipo's IQ has low IQ. That's why he forgets so soon.</td>\n",
              "      <td>[]</td>\n",
              "      <td>NaN</td>\n",
              "      <td>Mon</td>\n",
              "      <td>5</td>\n",
              "      <td>2020</td>\n",
              "      <td>0.160</td>\n",
              "      <td>0.840</td>\n",
              "      <td>0.000</td>\n",
              "      <td>-0.2732</td>\n",
              "    </tr>\n",
              "    <tr>\n",
              "      <th>2021-03-15 06:54:49</th>\n",
              "      <td>_ipheoma</td>\n",
              "      <td>Love enthusiast/ambivert/believer/happy human.\\n7th January... anyone?</td>\n",
              "      <td>Lagos, Nigeria</td>\n",
              "      <td>381.0</td>\n",
              "      <td>510</td>\n",
              "      <td>3687</td>\n",
              "      <td>2017-03-17 12:58:31</td>\n",
              "      <td>0</td>\n",
              "      <td>@Aunty_Barbie @OgbeniDipo Likeeee!\\n\\nMe: *tears chicken*\\n\\nOgbeni Dipo: so you took 15th position out of 25 people? You don't make use of your school library dear?\\n\\nMe: https://t.co/eErt37wB6W</td>\n",
              "      <td>[]</td>\n",
              "      <td>NaN</td>\n",
              "      <td>Mon</td>\n",
              "      <td>6</td>\n",
              "      <td>2017</td>\n",
              "      <td>0.061</td>\n",
              "      <td>0.835</td>\n",
              "      <td>0.104</td>\n",
              "      <td>0.3296</td>\n",
              "    </tr>\n",
              "    <tr>\n",
              "      <th>2021-03-15 11:12:08</th>\n",
              "      <td>realAdesanya</td>\n",
              "      <td>Data Analysts  Enthusiast || @ManUtd</td>\n",
              "      <td>NaN</td>\n",
              "      <td>50.0</td>\n",
              "      <td>19</td>\n",
              "      <td>138</td>\n",
              "      <td>2021-01-16 09:15:17</td>\n",
              "      <td>0</td>\n",
              "      <td>Another wonder session with @OgbeniDipo about Networking to advance one’s career.\\n\\nNetworking should be a symbiotic relationship - Dr Dipo https://t.co/LFRG3K281l</td>\n",
              "      <td>[]</td>\n",
              "      <td>NaN</td>\n",
              "      <td>Mon</td>\n",
              "      <td>11</td>\n",
              "      <td>2021</td>\n",
              "      <td>0.000</td>\n",
              "      <td>1.000</td>\n",
              "      <td>0.000</td>\n",
              "      <td>0.0000</td>\n",
              "    </tr>\n",
              "    <tr>\n",
              "      <th>2021-03-15 12:31:26</th>\n",
              "      <td>DeKINGKUDOS</td>\n",
              "      <td>PLUTOCRAT AMBITION.</td>\n",
              "      <td>Nigeria</td>\n",
              "      <td>93.0</td>\n",
              "      <td>57</td>\n",
              "      <td>627</td>\n",
              "      <td>2011-12-14 05:13:24</td>\n",
              "      <td>0</td>\n",
              "      <td>@OgbeniDipo If you are on Twitter NG and you are not following Ogbeni Dipo,I swear you are not serious with your life.</td>\n",
              "      <td>[]</td>\n",
              "      <td>NaN</td>\n",
              "      <td>Mon</td>\n",
              "      <td>12</td>\n",
              "      <td>2011</td>\n",
              "      <td>0.054</td>\n",
              "      <td>0.892</td>\n",
              "      <td>0.055</td>\n",
              "      <td>0.0057</td>\n",
              "    </tr>\n",
              "    <tr>\n",
              "      <th>2021-03-15 12:44:54</th>\n",
              "      <td>MyunusualSelf_</td>\n",
              "      <td>Blank</td>\n",
              "      <td>The Kings Landing</td>\n",
              "      <td>1397.0</td>\n",
              "      <td>1127</td>\n",
              "      <td>4047</td>\n",
              "      <td>2019-04-07 10:27:14</td>\n",
              "      <td>11</td>\n",
              "      <td>Dipo talked about how yummy our meals are especially the Jollof rice and two people sent me a dm making enquires about our Jollof rice in less than 2mins and 11people followed @_MummyMo also😂😂💃🏾💃🏾\\n\\nYou are the best @OgbeniDipo 😊🙌🏾</td>\n",
              "      <td>[]</td>\n",
              "      <td>NaN</td>\n",
              "      <td>Mon</td>\n",
              "      <td>12</td>\n",
              "      <td>2019</td>\n",
              "      <td>0.044</td>\n",
              "      <td>0.709</td>\n",
              "      <td>0.247</td>\n",
              "      <td>0.9607</td>\n",
              "    </tr>\n",
              "  </tbody>\n",
              "</table>\n",
              "</div>"
            ],
            "text/plain": [
              "                           username  ... compound\n",
              "tweetcreatedts                       ...         \n",
              "2021-03-15 05:24:29         Ts_Czar  ...  -0.2732\n",
              "2021-03-15 06:54:49        _ipheoma  ...   0.3296\n",
              "2021-03-15 11:12:08    realAdesanya  ...   0.0000\n",
              "2021-03-15 12:31:26     DeKINGKUDOS  ...   0.0057\n",
              "2021-03-15 12:44:54  MyunusualSelf_  ...   0.9607\n",
              "\n",
              "[5 rows x 18 columns]"
            ]
          },
          "metadata": {
            "tags": []
          },
          "execution_count": 201
        }
      ]
    },
    {
      "cell_type": "code",
      "metadata": {
        "colab": {
          "base_uri": "https://localhost:8080/",
          "height": 412
        },
        "id": "78MFD0WXUOzi",
        "outputId": "e3fcc4f6-8675-4c6f-b13b-4fe2c762f6d7"
      },
      "source": [
        "# account age distribution of the tweeters \n",
        "plt.figure(figsize=(10, 6))\n",
        "sentimented_tweets['compound'].hist()\n",
        "plt.ylabel('Tweet Count')\n",
        "plt.xlabel('Sentiment Score')"
      ],
      "execution_count": 228,
      "outputs": [
        {
          "output_type": "execute_result",
          "data": {
            "text/plain": [
              "Text(0.5, 0, 'Sentiment Score')"
            ]
          },
          "metadata": {
            "tags": []
          },
          "execution_count": 228
        },
        {
          "output_type": "display_data",
          "data": {
            "image/png": "[encoded data removed]",
            "text/plain": [
              "<Figure size 720x432 with 1 Axes>"
            ]
          },
          "metadata": {
            "tags": [],
            "needs_background": "light"
          }
        }
      ]
    },
    {
      "cell_type": "markdown",
      "metadata": {
        "id": "jVHEtktbgGJR"
      },
      "source": [
        "Seems like the people were a little bit unhappy after all and it shakes off after a while.\n"
      ]
    }
  ]
}